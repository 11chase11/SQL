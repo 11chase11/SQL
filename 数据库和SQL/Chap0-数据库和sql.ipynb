{
 "cells": [
  {
   "cell_type": "code",
   "execution_count": null,
   "metadata": {},
   "outputs": [],
   "source": []
  },
  {
   "cell_type": "markdown",
   "metadata": {},
   "source": [
    "# SQL环境搭载及基础概念"
   ]
  },
  {
   "cell_type": "markdown",
   "metadata": {},
   "source": [
    "## 数据库是什么？SQL是什么？"
   ]
  },
  {
   "cell_type": "markdown",
   "metadata": {},
   "source": [
    "1. 数据库是将大量数据保存起来，通过计算机加工而成的可以进行高效访问的数据集合。eg.图书馆管理系统，医院患者管理系统...\n",
    "2. 用来管理数据库的计算机系统称为数据库管理系统（DBMS）。优点：可多人共享；可操作大量数据；可通过编程实现读写自动化\n",
    "3. DBMS可以分为以下五种类型：层次数据库（树状结构）；关系数据库（二维表）；面向对象数据库；XML数据库；键值存储系统。其中关系数据库通过关系数据库管理系统（RDBMS）进行管理。\n",
    "4. RDBMS通常使用客户端/服务器这样的系统结构。通过从客户端向服务器端发送 SQL语句来实现数据库的读写操作。"
   ]
  },
  {
   "cell_type": "markdown",
   "metadata": {},
   "source": [
    "## SQL概要"
   ]
  },
  {
   "cell_type": "markdown",
   "metadata": {},
   "source": [
    "根据对 RDBMS 赋予的指令种类的不同，SQL 语句可以分为以下三类。  \n",
    "1. DDL （今天来学）  \n",
    "DDL（Data Definition Language，数据定义语言）  用来创建或者删除存储数据用的数据库以及数据库中的表等对象。DDL 包含以下几种指令。  \n",
    " **CREATE：创建数据库和表等对象  \n",
    " DROP： 删除数据库和表等对象  \n",
    " ALTER： 修改数据库和表等对象的结构**  \n",
    "2. DML （实际使用的 SQL 语句当中有 90% 属于 DML，以后大家重点自学的内容）  \n",
    "DML（Data Manipulation Language，数据操纵语言）  用来查询或者变更表中的记录。DML 包含以下几种指令。  \n",
    " **SELECT：查询表中的数据  \n",
    " INSERT：向表中插入新数据  \n",
    " UPDATE：更新表中的数据  \n",
    " DELETE：删除表中的数据**  \n",
    "3. DCL  \n",
    "DCL（Data Control Language，数据控制语言）  用来确认或者取消对数据库中的数据进行的变更。除此之外，还可以对 RDBMS 的用户是否有权限操作数据库中的对象（数据库表等）进行设定。DCL 包含以下几种指令。  \n",
    "COMMIT： 确认对数据库中的数据进行的变更  \n",
    "ROLLBACK：取消对数据库中的数据进行的变更  \n",
    "GRANT： 赋予用户操作权限  \n",
    "REVOKE： 取消用户的操作权限  "
   ]
  },
  {
   "cell_type": "markdown",
   "metadata": {},
   "source": [
    "**SQL基本书写规则**  \n",
    "1. **SQL语句要以分号（;）结尾**    \n",
    "2. **SQL语句不区分大小写**。例如，不管写成 SELECT 还是 select，解释都是一样的。但是插入到表中的数据是区分大小写的。例如，在操作过程中，数据Computer、COMPUTER 或 computer，三者是不一样的       \n",
    "3. 常数的书写：  \n",
    " **字符串要用单引号括起来**，e.g. 'abc'  \n",
    " **日期格式需要用单引号括起来**， e.g. '2021-03-31'  \n",
    "4. 单词需要用半角空格或者换行来分隔"
   ]
  },
  {
   "cell_type": "markdown",
   "metadata": {},
   "source": [
    "# 表的构建"
   ]
  },
  {
   "cell_type": "markdown",
   "metadata": {},
   "source": [
    "## 表的结构和属性 （见PPT）"
   ]
  },
  {
   "cell_type": "markdown",
   "metadata": {},
   "source": [
    "## 数据库的创建\n",
    "\n",
    "CREATE DATABASE <数据库名称>;"
   ]
  },
  {
   "cell_type": "code",
   "execution_count": null,
   "metadata": {},
   "outputs": [],
   "source": [
    "CREATE DATABASE demo1;"
   ]
  },
  {
   "cell_type": "markdown",
   "metadata": {},
   "source": [
    "## 表的创建 CREAT TABLE\n",
    "\n",
    "CREATE TABLE <表名>   \n",
    "（<列名1> <数据类型> <该列所需约束>，  \n",
    " <列名2> <数据类型> <该列所需约束>，  \n",
    " <列名3> <数据类型> <该列所需约束>，  \n",
    " <列名4> <数据类型> <该列所需约束>，  \n",
    " .  \n",
    " .  \n",
    " .  \n",
    " <该表的约束1>， <该表的约束2>，……）；  "
   ]
  },
  {
   "cell_type": "markdown",
   "metadata": {},
   "source": [
    "### 命名规则\n",
    "1. 我们只能使用半角英文字母、数字、下划线（_）作为数据库、表和列的名称  。$、#、? 这样的符号同样不能作为名称使用。  \n",
    "2. 名称必须以半角英文字母开头  。 \n",
    "3. 在同一个数据库中不能创建两个相同名称的表，在同一个表中也不能创建两个名称相同的列。"
   ]
  },
  {
   "cell_type": "markdown",
   "metadata": {},
   "source": [
    "### 数据类型的指定"
   ]
  },
  {
   "cell_type": "markdown",
   "metadata": {},
   "source": [
    "1. INTEGER or INT or SMALLINT => INT值\n",
    "2. FLOAT(X) or REAL => 浮点数\n",
    "3. CHAR(X) or VARCHAR(X) => 字符串，括号中指定最大长度\n",
    "4. DATE or DATETIME => 日期\n",
    "5. BOOLEAN => 布尔值\n"
   ]
  },
  {
   "cell_type": "markdown",
   "metadata": {},
   "source": [
    "### 约束的设置"
   ]
  },
  {
   "cell_type": "markdown",
   "metadata": {},
   "source": [
    "1. NOT NULL 不可为空  \n",
    "2. PTIMARY KEY (xxx) 将某一属性设置为主键\n",
    "3. DEFAULT xx 初始设置  \n",
    "4. CHECK (xxx BETWEEN xx AND xx) 检查范围\n",
    "5. FOREIGN KEY 外部主键;"
   ]
  },
  {
   "cell_type": "code",
   "execution_count": null,
   "metadata": {},
   "outputs": [],
   "source": [
    "CREATE TABLE person(\n",
    "ID INT NOT NULL PRIMARY KEY,\n",
    "first_name VARCHAR(20),\n",
    "last_name VARCHAR(20),\n",
    "gender BOOLEAN,\n",
    "birthday DATE\n",
    ");\n",
    "\n",
    "CREATE TABLE car(\n",
    "num_car VARCHAR(10) PRIMARY KEY,\n",
    "brand VARCHAR(20) NOT NULL,\n",
    "number_of_seats INT DEFAULT 4 CHECK(number_of_seats BETWEEN 2 AND 7),\n",
    "color VARCHAR(20)\n",
    ");\n",
    "\n",
    "CREATE TABLE ass_person_car(\n",
    "ID INT NOT NULL,\n",
    "num_car VARCHAR(10)  NOT NULL,\n",
    "PRIMARY KEY (ID, num_car),\n",
    "FOREIGN KEY(ID) REFERENCES person(ID),\n",
    "FOREIGN KEY(num_car) REFERENCES car(num_car)\n",
    ");"
   ]
  },
  {
   "cell_type": "markdown",
   "metadata": {},
   "source": [
    "### 表的删除与更新"
   ]
  },
  {
   "cell_type": "markdown",
   "metadata": {},
   "source": [
    "1. 表的删除 DROP TABLE person;  \n",
    "2. 表的更新 ALTER TABLE  \n",
    "   添加某列 ALTER TABLE person ADD COLUMN degree VARCHAR(100);  \n",
    "   删除某列 ALTER TABLE person DROP COLUMN gender;"
   ]
  },
  {
   "cell_type": "markdown",
   "metadata": {},
   "source": [
    "### 插入数据\n",
    "1. 用csv/excel 导入"
   ]
  },
  {
   "cell_type": "markdown",
   "metadata": {},
   "source": [
    "2. 用代码导入"
   ]
  },
  {
   "cell_type": "code",
   "execution_count": null,
   "metadata": {},
   "outputs": [],
   "source": [
    "BEGIN TRANSACTION;\n",
    "INSERT INTO car(num_car, brand, number_of_seats, color)\n",
    "VALUES\n",
    "('11','aa',4,'blue'),\n",
    "('22','bb',6,'black'),\n",
    "('33','cc',4,'white');\n",
    "COMMIT;"
   ]
  },
  {
   "cell_type": "markdown",
   "metadata": {},
   "source": [
    "开头的 BEGIN TRANSACTION 语句是开始插入行的指令语句，结尾的 COMMIT 语句是确定插入行的指令语句。这些指令语句将会在第4 章详细介绍，大家不必急于记住这些语句。"
   ]
  },
  {
   "cell_type": "markdown",
   "metadata": {},
   "source": [
    "# 计划表"
   ]
  },
  {
   "cell_type": "markdown",
   "metadata": {},
   "source": [
    "| 学习时间 | 原书章节 | 对应案例  | 负责人 | 贡献者 |\n",
    "| ------------ | ------------ | ------------ | ------------ | ------------ |\n",
    "| 03.23 | [第零章 绪论——搭建SQL的学习环境]() | [绪论——搭建SQL的学习环境](绪论——搭建SQL的学习环境/绪论——搭建SQL的学习环境.md) | @CharlieSCC | @CharlieSCC |\n",
    "| 04.01 | [第一章 数据库和SQL]() | [数据库和SQL]() | @jiangxunmu | @jiangxunmu |\n",
    "| 04.02-04.12 | [第二章 查询基础]() | [查询基础]() | 1 |  |\n",
    "| ----------- | [第三章 聚合排序]() | [聚合排序]() |  |  |\n",
    "| 04.13-04.19 | [第四章 数据更新]() | [数据更新]() | 2 |  |\n",
    "| 04.20-04.26 | [第五章 复杂查询]() | [复杂查询]() |  3|  |\n",
    "| 04.27-05.03 | [第六章 函数、谓词、CASE表达式]() | [函数、谓词、CASE表达式]() | 4 |  |\n",
    "| 05.04-05.10 | [第七章 集合运算]() | [集合运算]() | 5 |  |\n",
    "| 05.11-05.18 | [第八章 SQL高级处理]() | [SQL高级处理]() | 6 |  |\n",
    "| 05.18-05.24 | [第九章 通过应用程序连接数据]() | 哈佛CS50课 | 7 |  |\n",
    "\n"
   ]
  },
  {
   "cell_type": "markdown",
   "metadata": {},
   "source": [
    "**任务内容：**  \n",
    "\n",
    "\n",
    "非本周任务成员：以学会为目标  \n",
    "1. 阅读SQL基础教程（第二版）的对应章节  \n",
    "2. 完成指定习题（课后习题+LeetCode）  \n",
    "\n",
    "本周任务成员：\n",
    "1. 阅读SQL基础教程（第二版）的对应章节  \n",
    "2. 完成课后习题，如果题量过大可自行筛选，并告知其他非本周学习任务的同学，题目完成后将答案发到群里  \n",
    "3. 在LeetCode上找三道与所学内容有关的题目，将链接发给大家。（前面章节较为基础，可能没有适合的题目，依情况而定）\n",
    "4. 完成读书笔记的撰写，内容包括学习内容、课后题目以及可能的LeetCode。（格式请参考上学期的pyshare专题）"
   ]
  },
  {
   "cell_type": "code",
   "execution_count": null,
   "metadata": {},
   "outputs": [],
   "source": []
  }
 ],
 "metadata": {
  "kernelspec": {
   "display_name": "Python 3",
   "language": "python",
   "name": "python3"
  },
  "language_info": {
   "codemirror_mode": {
    "name": "ipython",
    "version": 3
   },
   "file_extension": ".py",
   "mimetype": "text/x-python",
   "name": "python",
   "nbconvert_exporter": "python",
   "pygments_lexer": "ipython3",
   "version": "3.8.3"
  },
  "toc": {
   "base_numbering": 1,
   "nav_menu": {},
   "number_sections": true,
   "sideBar": true,
   "skip_h1_title": false,
   "title_cell": "Table of Contents",
   "title_sidebar": "Contents",
   "toc_cell": false,
   "toc_position": {
    "height": "calc(100% - 180px)",
    "left": "10px",
    "top": "150px",
    "width": "165px"
   },
   "toc_section_display": true,
   "toc_window_display": true
  }
 },
 "nbformat": 4,
 "nbformat_minor": 4
}
